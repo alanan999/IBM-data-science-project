{
  "metadata": {
    "language_info": {
      "codemirror_mode": {
        "name": "python",
        "version": 3
      },
      "file_extension": ".py",
      "mimetype": "text/x-python",
      "name": "python",
      "nbconvert_exporter": "python",
      "pygments_lexer": "ipython3",
      "version": "3.8"
    },
    "kernelspec": {
      "name": "python",
      "display_name": "Python (Pyodide)",
      "language": "python"
    }
  },
  "nbformat_minor": 4,
  "nbformat": 4,
  "cells": [
    {
      "cell_type": "markdown",
      "source": "# My Jupyter Notebook on IBM Watson Studio",
      "metadata": {
        "tags": []
      }
    },
    {
      "cell_type": "markdown",
      "source": "**Alan**\nData analysts",
      "metadata": {}
    },
    {
      "cell_type": "markdown",
      "source": "*I am interested in data science bc I want to explore more career path*",
      "metadata": {}
    },
    {
      "cell_type": "markdown",
      "source": "executed and display an output",
      "metadata": {}
    },
    {
      "cell_type": "code",
      "source": "x = 1-1\nprint(x)",
      "metadata": {
        "trusted": true
      },
      "execution_count": 1,
      "outputs": [
        {
          "name": "stdout",
          "text": "0\n",
          "output_type": "stream"
        }
      ]
    },
    {
      "cell_type": "markdown",
      "source": "- test\n- test\n- test\n1. test\n2. test\n***\n__[link text](http://url)__google.come\n\n",
      "metadata": {}
    }
  ]
}